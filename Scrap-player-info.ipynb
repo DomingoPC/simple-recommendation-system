{
 "cells": [
  {
   "cell_type": "code",
   "execution_count": 1,
   "id": "04efc55b",
   "metadata": {},
   "outputs": [],
   "source": [
    "import requests\n",
    "from bs4 import BeautifulSoup\n",
    "import re\n",
    "import pandas as pd\n",
    "from selenium import webdriver\n",
    "import time\n",
    "from tqdm.notebook import tqdm # Progress bar"
   ]
  },
  {
   "attachments": {},
   "cell_type": "markdown",
   "id": "1bffe1eb-8040-4014-b538-4657763570d5",
   "metadata": {},
   "source": [
    "### Personajes jugables\n",
    "\n",
    "En este juego los personajes jugables son dioses. Estos pueden tomar diferentes roles: asesino, guardian, cazador, mago o guerrero.\n",
    "\n",
    "Las clases son, en esencia, distintas, pero suele ocurrir que un personaje pueda tomar varios de esos roles, aunque el juego le asigna uno por defecto.\n",
    "\n",
    "Existen también algunos casos en los que un personaje tienen asignados un rol, según el juego, que no coincide con el verdadero uso que le dan los jugadores en una partida. Por ejemplo, aunque Martichoras tiene asignado el rol de cazador (Hunter), se usa mucho más en el rol de mago. Estos casos varían por ajustes del juego. Si quieres más información sobre algún personaje concreto, es posible encontrarla en este [enlace](https://www.smitefire.com/smite/gods), y solo hay que tener en cuenta algunas asociaciones:\n",
    "\n",
    "+ Mid: mago.\n",
    "+ ADC: cazador.\n",
    "+ Support: guardian.\n",
    "+ Solo: warrior.\n",
    "+ Jungla: asesino.\n",
    "\n",
    "Por tanto, una de las primeras guías de Martichoras será algo como \"Conquest Mid Build\", siendo Conquest el modo de juego más popular de Smite. Las recomendaciones, estarán principalmente sesgadas a lo recomendado para Conquest."
   ]
  },
  {
   "cell_type": "code",
   "execution_count": 2,
   "id": "578b78bf-0fdb-4a62-92f3-b5a59269e369",
   "metadata": {},
   "outputs": [
    {
     "data": {
      "text/html": [
       "<div>\n",
       "<style scoped>\n",
       "    .dataframe tbody tr th:only-of-type {\n",
       "        vertical-align: middle;\n",
       "    }\n",
       "\n",
       "    .dataframe tbody tr th {\n",
       "        vertical-align: top;\n",
       "    }\n",
       "\n",
       "    .dataframe thead th {\n",
       "        text-align: right;\n",
       "    }\n",
       "</style>\n",
       "<table border=\"1\" class=\"dataframe\">\n",
       "  <thead>\n",
       "    <tr style=\"text-align: right;\">\n",
       "      <th></th>\n",
       "      <th>0</th>\n",
       "      <th>1</th>\n",
       "    </tr>\n",
       "  </thead>\n",
       "  <tbody>\n",
       "    <tr>\n",
       "      <th>0</th>\n",
       "      <td>Arachne</td>\n",
       "      <td>Assassin</td>\n",
       "    </tr>\n",
       "    <tr>\n",
       "      <th>1</th>\n",
       "      <td>Awilix</td>\n",
       "      <td>Assassin</td>\n",
       "    </tr>\n",
       "    <tr>\n",
       "      <th>2</th>\n",
       "      <td>Bakasura</td>\n",
       "      <td>Assassin</td>\n",
       "    </tr>\n",
       "    <tr>\n",
       "      <th>3</th>\n",
       "      <td>Bastet</td>\n",
       "      <td>Assassin</td>\n",
       "    </tr>\n",
       "    <tr>\n",
       "      <th>4</th>\n",
       "      <td>Camazotz</td>\n",
       "      <td>Assassin</td>\n",
       "    </tr>\n",
       "  </tbody>\n",
       "</table>\n",
       "</div>"
      ],
      "text/plain": [
       "          0         1\n",
       "0   Arachne  Assassin\n",
       "1    Awilix  Assassin\n",
       "2  Bakasura  Assassin\n",
       "3    Bastet  Assassin\n",
       "4  Camazotz  Assassin"
      ]
     },
     "execution_count": 2,
     "metadata": {},
     "output_type": "execute_result"
    }
   ],
   "source": [
    "# Abrimos archivos para escritura\n",
    "file_names = open('data/names.txt','w') # solo nombres\n",
    "file_all = open(\"data/gods_names_roles.txt\", \"w\") # nombres y roles\n",
    "\n",
    "# Buscamos dioses por roles y los clasificamos con ellos\n",
    "roles = [\"Assassin\", \"Guardian\", \"Hunter\", \"Mage\", \"Warrior\"]\n",
    "for role in roles:\n",
    "    url = f\"https://smite.fandom.com/wiki/Category:{role}_gods\"\n",
    "    \n",
    "    downloaded_text = requests.get(url, headers = {\"User-agent\": \"your bot 0.1\"}).text\n",
    "    html = BeautifulSoup(downloaded_text)    \n",
    "    \n",
    "    for div in html.select(\"div.mw-category-group\"):\n",
    "        gods = div.find_all(\"a\")\n",
    "        \n",
    "        for god in gods:\n",
    "            # Cada fila es un dios con su role asignado\n",
    "            name = god.text.strip()\n",
    "            file_names.write(name+\",\")\n",
    "            file_all.write(name + \",\" + role + \"\\n\")\n",
    "            \n",
    "file_names.close()\n",
    "file_all.close()\n",
    "\n",
    "pd.read_csv(\"data/gods_names_roles.txt\", header=None).head()"
   ]
  },
  {
   "cell_type": "markdown",
   "id": "6d5bd116-fe12-492f-b184-f98b441229e6",
   "metadata": {},
   "source": [
    "### Scrapping de datos públicos de usuarios\n",
    "Vamos a scrapear información de jugadores profesionales y de otros jugadores noveles:\n",
    "\n",
    "+ Para encontrar a los profesionales, he buscado a los componentes de varios equipos competitivos de este [enlace](https://www.smiteproleague.com/teams/). También he incorporado a Hex Mambo, porque lo conocía.\n",
    "\n",
    "+ Para los casuals, entre los que me incluyo, he cogido a algunos jugadores que han coincidido en partida conmigo.\n",
    "\n",
    "Con los nombres de usuario he buscado en [smite.guru](https://smite.guru/) la información de cada jugador. Concretamente, he tomado el tiempo de juego con cada personaje, que será lo que utilizaré para medir la opinión del jugador.\n",
    "\n",
    "Además, el juego lleva existiendo 10 años, y han variado muchas mecánicas y personajes desde su inicio. Uno de los cambios más importantes se produjo en la temporada anterior (Season 10), por lo que, en lugar de recabar información de todo el tiempo de juego, me centraré en lo que haya de la Season 10 en adelante (Seadon 10 y la actual Season 11).\n"
   ]
  },
  {
   "cell_type": "code",
   "execution_count": 3,
   "id": "c31eb028-8cdd-4685-8c6c-776bebeec2a3",
   "metadata": {},
   "outputs": [],
   "source": [
    "usuarios = [   \n",
    "    # Hex Mambo: \n",
    "    \"2752037-Julio\", \"2175091-Hawkk\", \"2464007-Dzoni\", \"3434717-Spudio\", \"6799515-Cozyx\",\n",
    "    # Jade Dragons\n",
    "    \"1232115-Nika\", \"86523-LASBRA\", \"250322-Dardez\", \"4151583-PolarBearMike\", \"701305469-VaporishCoast\",\n",
    "    # Atlantis Leviathans\n",
    "    \"4057379-fineokay\", \"10083290-Sheento\", \"2784051-Adapting\",\"10045885-Ronngyu\", \"1153439-PandaCat\",\n",
    "    # Camelot Kings\n",
    "    \"918206-Variety\", \"834980-CaptainTwig\", \"4111789-Theakz\", \"2022090-Quig\", \"10059174-Jarcorrr\", \"819265-Biggy\",\n",
    "    # Eldritch Hounds\n",
    "    \"2272206-Duck3y\", \"704101719-Oathhh\", \"5544740-BennyQ\", \"718039339-NeilMah\", \"700668575-Cutesypluto\", \"1722443-ElChuckles\",\n",
    "    # Gilded Gladiators\n",
    "    \"700114854-Cxnnahh\", \"3413550-Kyrmi\", \"702109726-Jangaru\", \"5008455-Awesomejake408\", \"730042-Snoopy\", \"4827135-KSier\",\n",
    "    # HIGHLAND RAVENS\n",
    "    \"825956-Haddix\", \"841456-Screammmmm\", \"1764272-Venenu\", \"1457496-Hurriwind\", \"367737-Zapman\", \"700115951-Marbach\",\n",
    "    # ONI WARRIORS\n",
    "    \"3390780-SoloOrTroll\", \"10050945-Panitom\", \"7780588-Pegon\", \"1134771-Genetics\", \"6422599-Netrioid\", \"10038700-Oxiledeon\",\n",
    "    # STYX FERRYMEN\n",
    "    \"1804371-Baskin\", \"3101009-Cyno\", \"360154-Paul\", \"40870-Aror\", \"144582-CycloneSpin\", \"307408-Realzx\",\n",
    "    # Otros usuarios (no expertos)\n",
    "    \"12057663-zonyiru\", \"717898767-TheFatKiing\", \"12410269-R3N3GAN\", \"716550989-guapiti\", \"10983503-L1mmbo\", \"719975272-AlexSomAndrew\"\n",
    "]\n",
    "\n",
    "def scrap_season_info(usuarios, gods_names, seasons=[10, 11]):\n",
    "\n",
    "    # Nombre del jugador: quitamos el código inicial\n",
    "    players = []\n",
    "    for user in usuarios:\n",
    "        players.append(re.search(r\"-\\w+\", user).group()[1:])\n",
    "\n",
    "    # Horas de uso de cada personaje\n",
    "    df = pd.DataFrame(columns=gods_names, index=players, data=0)\n",
    "    for i in tqdm(range(len(players))):\n",
    "        user = usuarios[i]\n",
    "        name = players[i]\n",
    "        for season in seasons:\n",
    "            url = f\"https://smite.guru/profile/{user}/champions?season={season}\"\n",
    "            downloaded_text = requests.get(url, headers = {\"User-agent\": \"your bot 0.1\"}).text\n",
    "            html = BeautifulSoup(downloaded_text, \"lxml\")  # css selector\n",
    "    \n",
    "            # Información de cada personaje\n",
    "            for div in html.select(\"div.row.champion-table__row\"):\n",
    "                current_god = div.find(\"div\", \"row__champion__name\").text.strip()        \n",
    "                played_time = div.find_all(\"div\")[-3].text.strip()\n",
    "                \n",
    "                try:\n",
    "                    horas = int(re.search(r\"[0-9.,]+h\", played_time).group()[:-1].replace(',', '')) #horas\n",
    "                except:\n",
    "                    horas = 0\n",
    "                try:\n",
    "                    minutos = int(re.search(r\"\\d+m\", played_time).group()[:-1]) #minutos\n",
    "                except:\n",
    "                    minutos = 0\n",
    "                \n",
    "                df.loc[name, current_god] += (horas + minutos/60) \n",
    "            time.sleep(1) # to avoid being aggresive with petitions\n",
    "        \n",
    "    return df"
   ]
  },
  {
   "cell_type": "code",
   "execution_count": 4,
   "id": "8b746634-cf2c-4fd6-b234-87df3b141dfe",
   "metadata": {},
   "outputs": [
    {
     "data": {
      "application/vnd.jupyter.widget-view+json": {
       "model_id": "06fb5a08a6f44df895b84f8676c0c8f6",
       "version_major": 2,
       "version_minor": 0
      },
      "text/plain": [
       "  0%|          | 0/57 [00:00<?, ?it/s]"
      ]
     },
     "metadata": {},
     "output_type": "display_data"
    }
   ],
   "source": [
    "result = scrap_season_info(usuarios, \n",
    "                           gods_names=pd.read_csv(\"data/names.txt\", header=None).iloc[0,:].tolist())"
   ]
  },
  {
   "cell_type": "code",
   "execution_count": null,
   "id": "14efbdb1-57dc-416c-a9f5-5f3d919aa837",
   "metadata": {},
   "outputs": [],
   "source": [
    "result.to_csv(\"data/players_info__seasons10y11.csv\")"
   ]
  }
 ],
 "metadata": {
  "kernelspec": {
   "display_name": "Python 3 (ipykernel)",
   "language": "python",
   "name": "python3"
  },
  "language_info": {
   "codemirror_mode": {
    "name": "ipython",
    "version": 3
   },
   "file_extension": ".py",
   "mimetype": "text/x-python",
   "name": "python",
   "nbconvert_exporter": "python",
   "pygments_lexer": "ipython3",
   "version": "3.11.5"
  }
 },
 "nbformat": 4,
 "nbformat_minor": 5
}
